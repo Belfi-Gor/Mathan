{
 "cells": [
  {
   "cell_type": "markdown",
   "metadata": {},
   "source": [
    "Исследовать функцию на условный экстремум"
   ]
  },
  {
   "cell_type": "markdown",
   "metadata": {},
   "source": [
    "# U=3-8x+6y, если x^2+y^2=36\n",
    "    extrema 3-8x+6y, x^2+y^2=36"
   ]
  },
  {
   "cell_type": "markdown",
   "metadata": {},
   "source": [
    "Глобальный максимум: max{3-8x+6y|x^2+y^2=36}=63 при x=-24/5 и y=18/5\n",
    "\n",
    "Глобальный минимум: min{3-8x+6y|x^2+y^2=36}=-57 при x=24/5 и y=-18/5"
   ]
  },
  {
   "cell_type": "markdown",
   "metadata": {},
   "source": [
    "# U=2x^2+12xy+32y^2+15, если x^2+16y^2=64\n",
    "    extrema 2x^2+12xy+32y^2+15, x^2+16y^2=64"
   ]
  },
  {
   "cell_type": "markdown",
   "metadata": {},
   "source": [
    "    Глобальный минимум:\n",
    "        max{2x^2+12xy+32y^2+15|x^2+16y^2=64}=239 при x=-4*sqrt(2), y=-sqrt(2)\n",
    "        max{2x^2+12xy+32y^2+15|x^2+16y^2=64}=239 при x=4*sqrt(2), y=sqrt(2)\n",
    "    Глобальный минимум:\n",
    "        min{2x^2+12xy+32y^2+15|x^2+16y^2=64}=239 при x=-4*sqrt(2), y=sqrt(2)\n",
    "        min{2x^2+12xy+32y^2+15|x^2+16y^2=64}=239 при x=4*sqrt(2), y=-sqrt(2)"
   ]
  },
  {
   "cell_type": "code",
   "execution_count": null,
   "metadata": {},
   "outputs": [],
   "source": []
  }
 ],
 "metadata": {
  "kernelspec": {
   "display_name": "Python 3",
   "language": "python",
   "name": "python3"
  },
  "language_info": {
   "codemirror_mode": {
    "name": "ipython",
    "version": 3
   },
   "file_extension": ".py",
   "mimetype": "text/x-python",
   "name": "python",
   "nbconvert_exporter": "python",
   "pygments_lexer": "ipython3",
   "version": "3.7.3"
  },
  "toc": {
   "base_numbering": 1,
   "nav_menu": {},
   "number_sections": true,
   "sideBar": true,
   "skip_h1_title": false,
   "title_cell": "Table of Contents",
   "title_sidebar": "Contents",
   "toc_cell": false,
   "toc_position": {},
   "toc_section_display": true,
   "toc_window_display": false
  }
 },
 "nbformat": 4,
 "nbformat_minor": 2
}
