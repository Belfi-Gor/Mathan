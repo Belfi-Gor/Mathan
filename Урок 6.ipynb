{
 "cells": [
  {
   "cell_type": "markdown",
   "metadata": {},
   "source": [
    "# Понятие о производной"
   ]
  },
  {
   "cell_type": "markdown",
   "metadata": {},
   "source": [
    "## Найти производную выражения"
   ]
  },
  {
   "cell_type": "markdown",
   "metadata": {},
   "source": [
    "Производная функции в точке – предел отношения приращения функции в данной точке к приращению аргумента, когда последнее стремится к нулю."
   ]
  },
  {
   "cell_type": "code",
   "execution_count": null,
   "metadata": {},
   "outputs": [],
   "source": [
    "from sympy import *\n",
    "import numpy as np\n",
    "import math\n",
    "x = Symbol('x')"
   ]
  },
  {
   "cell_type": "markdown",
   "metadata": {},
   "source": [
    "### a"
   ]
  },
  {
   "cell_type": "code",
   "execution_count": 9,
   "metadata": {},
   "outputs": [
    {
     "data": {
      "text/latex": [
       "$\\displaystyle - \\sin^{2}{\\left(x \\right)} + \\cos^{2}{\\left(x \\right)}$"
      ],
      "text/plain": [
       "-sin(x)**2 + cos(x)**2"
      ]
     },
     "execution_count": 9,
     "metadata": {},
     "output_type": "execute_result"
    }
   ],
   "source": [
    "\n",
    "y = sin(x)*cos(x)\n",
    "\n",
    "\n",
    "yprime = y.diff(x)\n",
    "yprime"
   ]
  },
  {
   "cell_type": "markdown",
   "metadata": {},
   "source": [
    "### b"
   ]
  },
  {
   "cell_type": "code",
   "execution_count": 11,
   "metadata": {},
   "outputs": [
    {
     "data": {
      "text/latex": [
       "$\\displaystyle \\frac{6 \\log{\\left(2 x + 1 \\right)}^{2}}{2 x + 1}$"
      ],
      "text/plain": [
       "6*log(2*x + 1)**2/(2*x + 1)"
      ]
     },
     "execution_count": 11,
     "metadata": {},
     "output_type": "execute_result"
    }
   ],
   "source": [
    "y = ln(2*x+1)**3\n",
    "\n",
    "\n",
    "yprime = y.diff(x)\n",
    "yprime"
   ]
  },
  {
   "cell_type": "markdown",
   "metadata": {},
   "source": [
    "### c"
   ]
  },
  {
   "cell_type": "code",
   "execution_count": 38,
   "metadata": {},
   "outputs": [
    {
     "data": {
      "text/latex": [
       "$\\displaystyle \\frac{3 \\sqrt{\\sin^{2}{\\left(\\log{\\left(x^{3} \\right)} \\right)}} \\cos{\\left(\\log{\\left(x^{3} \\right)} \\right)}}{x \\sin{\\left(\\log{\\left(x^{3} \\right)} \\right)}}$"
      ],
      "text/plain": [
       "3*sqrt(sin(log(x**3))**2)*cos(log(x**3))/(x*sin(log(x**3)))"
      ]
     },
     "execution_count": 38,
     "metadata": {},
     "output_type": "execute_result"
    }
   ],
   "source": [
    "y = sqrt(sin((ln(x**3)))**2)\n",
    "\n",
    "\n",
    "yprime = y.diff(x)\n",
    "yprime"
   ]
  },
  {
   "cell_type": "markdown",
   "metadata": {},
   "source": [
    "### d"
   ]
  },
  {
   "cell_type": "code",
   "execution_count": 39,
   "metadata": {},
   "outputs": [
    {
     "data": {
      "text/latex": [
       "$\\displaystyle \\frac{4 x^{3}}{\\log{\\left(x \\right)}} - \\frac{x^{3}}{\\log{\\left(x \\right)}^{2}}$"
      ],
      "text/plain": [
       "4*x**3/log(x) - x**3/log(x)**2"
      ]
     },
     "execution_count": 39,
     "metadata": {},
     "output_type": "execute_result"
    }
   ],
   "source": [
    "y = (x**4)/(ln(x))\n",
    "\n",
    "\n",
    "yprime = y.diff(x)\n",
    "yprime"
   ]
  },
  {
   "cell_type": "code",
   "execution_count": 59,
   "metadata": {},
   "outputs": [],
   "source": [
    "from scipy.misc import derivative"
   ]
  },
  {
   "cell_type": "markdown",
   "metadata": {},
   "source": [
    "## 2"
   ]
  },
  {
   "cell_type": "code",
   "execution_count": 62,
   "metadata": {},
   "outputs": [
    {
     "data": {
      "text/latex": [
       "$\\displaystyle - \\left(2 x + 3\\right) \\sin{\\left(x^{2} + 3 x \\right)}$"
      ],
      "text/plain": [
       "-(2*x + 3)*sin(x**2 + 3*x)"
      ]
     },
     "execution_count": 62,
     "metadata": {},
     "output_type": "execute_result"
    }
   ],
   "source": [
    "y = cos(x**2+3*x)\n",
    "\n",
    "\n",
    "yprime = y.diff(x)\n",
    "yprime"
   ]
  },
  {
   "cell_type": "code",
   "execution_count": 61,
   "metadata": {},
   "outputs": [
    {
     "data": {
      "text/latex": [
       "$\\displaystyle -0.142845967328917$"
      ],
      "text/plain": [
       "-0.142845967328917"
      ]
     },
     "execution_count": 61,
     "metadata": {},
     "output_type": "execute_result"
    }
   ],
   "source": [
    "def f(x):\n",
    "    return cos(x**2+3*x)\n",
    "\n",
    "derivative(f, 3.14)"
   ]
  },
  {
   "cell_type": "markdown",
   "metadata": {},
   "source": [
    "## 3"
   ]
  },
  {
   "cell_type": "code",
   "execution_count": 63,
   "metadata": {},
   "outputs": [
    {
     "data": {
      "text/latex": [
       "$\\displaystyle \\frac{3 x^{2} - 2 x - 1}{- 4 x^{3} + 3 x^{2} + 2 x + 1} + \\frac{\\left(12 x^{2} - 6 x - 2\\right) \\left(x^{3} - x^{2} - x - 1\\right)}{\\left(- 4 x^{3} + 3 x^{2} + 2 x + 1\\right)^{2}}$"
      ],
      "text/plain": [
       "(3*x**2 - 2*x - 1)/(-4*x**3 + 3*x**2 + 2*x + 1) + (12*x**2 - 6*x - 2)*(x**3 - x**2 - x - 1)/(-4*x**3 + 3*x**2 + 2*x + 1)**2"
      ]
     },
     "execution_count": 63,
     "metadata": {},
     "output_type": "execute_result"
    }
   ],
   "source": [
    "y = (x**3-x**2-x-1)/(1+2*x+3*x**2-4*x**3)\n",
    "\n",
    "\n",
    "yprime = y.diff(x)\n",
    "yprime"
   ]
  },
  {
   "cell_type": "code",
   "execution_count": 64,
   "metadata": {},
   "outputs": [
    {
     "data": {
      "text/plain": [
       "-0.33333333333333337"
      ]
     },
     "execution_count": 64,
     "metadata": {},
     "output_type": "execute_result"
    }
   ],
   "source": [
    "def f(x):\n",
    "    return (x**3-x**2-x-1)/(1+2*x+3*x**2-4*x**3)\n",
    "\n",
    "derivative(f, 0)"
   ]
  },
  {
   "cell_type": "code",
   "execution_count": null,
   "metadata": {},
   "outputs": [],
   "source": []
  },
  {
   "cell_type": "code",
   "execution_count": null,
   "metadata": {},
   "outputs": [],
   "source": []
  }
 ],
 "metadata": {
  "kernelspec": {
   "display_name": "Python 3",
   "language": "python",
   "name": "python3"
  },
  "language_info": {
   "codemirror_mode": {
    "name": "ipython",
    "version": 3
   },
   "file_extension": ".py",
   "mimetype": "text/x-python",
   "name": "python",
   "nbconvert_exporter": "python",
   "pygments_lexer": "ipython3",
   "version": "3.7.3"
  },
  "toc": {
   "base_numbering": 1,
   "nav_menu": {},
   "number_sections": true,
   "sideBar": true,
   "skip_h1_title": false,
   "title_cell": "Table of Contents",
   "title_sidebar": "Contents",
   "toc_cell": false,
   "toc_position": {},
   "toc_section_display": true,
   "toc_window_display": false
  }
 },
 "nbformat": 4,
 "nbformat_minor": 2
}
